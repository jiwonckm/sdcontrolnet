{
  "nbformat": 4,
  "nbformat_minor": 0,
  "metadata": {
    "colab": {
      "provenance": [],
      "include_colab_link": true
    },
    "kernelspec": {
      "name": "python3",
      "display_name": "Python 3"
    },
    "language_info": {
      "name": "python"
    }
  },
  "cells": [
    {
      "cell_type": "markdown",
      "metadata": {
        "id": "view-in-github",
        "colab_type": "text"
      },
      "source": [
        "<a href=\"https://colab.research.google.com/github/jiwonckm/sdcontrolnet/blob/main/TextProcessing.ipynb\" target=\"_parent\"><img src=\"https://colab.research.google.com/assets/colab-badge.svg\" alt=\"Open In Colab\"/></a>"
      ]
    },
    {
      "cell_type": "code",
      "execution_count": 2,
      "metadata": {
        "id": "V1KCZ-zzGTSQ",
        "colab": {
          "base_uri": "https://localhost:8080/"
        },
        "outputId": "b1e1abb3-1a11-4d64-b0e1-f22ce0ebae0a"
      },
      "outputs": [
        {
          "output_type": "stream",
          "name": "stdout",
          "text": [
            "Mounted at /content/drive\n"
          ]
        }
      ],
      "source": [
        "from google.colab import drive\n",
        "drive.mount('/content/drive')\n",
        "  "
      ]
    },
    {
      "cell_type": "code",
      "source": [
        "import json\n",
        "\n",
        "textFilePath = \"/content/drive/MyDrive/CVproject/Data/list_attr_celeba.txt\"\n",
        "sourcePath = \"/content/drive/MyDrive/CVproject/Data/processedData/\"\n",
        "targetPath = \"/content/drive/MyDrive/CVproject/Data/data/\"\n",
        "jsonPath = \"/content/drive/MyDrive/CVproject/Data/\"\n",
        "\n",
        "imageDictionary = {} #image to words\n",
        "with open(textFilePath, \"r\") as textFile:\n",
        "  fileContent = textFile.readlines()\n",
        "\n",
        "  traitNames = fileContent[1].split()\n",
        "\n",
        "\n",
        "  for line in fileContent[2:10002]:\n",
        "    lineTraits = line.split()\n",
        "\n",
        "    name = lineTraits[0] #name of image\n",
        "    traits = lineTraits[1:] #list of -1, 1's corresponding to traits\n",
        "\n",
        "    activeTraits = []\n",
        "    for count, trait in enumerate(traits):\n",
        "      if trait == \"1\":\n",
        "        activeTraits.append(traitNames[count].replace(\"_\", \" \"))\n",
        "        \n",
        "    word_string = \"Person with \" + \", \".join(activeTraits);\n",
        "    \n",
        "    source = sourcePath + name\n",
        "    target = targetPath + name\n",
        "    imageDictionary[name] = {\"source\": source, \"target\": target, \"prompt\" : word_string}\n",
        "\n",
        "json_string = json.dumps(imageDictionary)\n",
        "with open(jsonPath + \"SourceTargetPrompt.json\", \"w\") as outfile:\n",
        "  outfile.write(json_string)\n",
        "\n",
        "#out_file = open(jsonPath + \"Input.json\", \"w\")\n",
        "#json.dump(imageDictionary, out_file, indent = 4, sort_keys = False)\n",
        "#out_file.close()\n"
      ],
      "metadata": {
        "id": "HFNu5gRD7Nj4"
      },
      "execution_count": 8,
      "outputs": []
    }
  ]
}